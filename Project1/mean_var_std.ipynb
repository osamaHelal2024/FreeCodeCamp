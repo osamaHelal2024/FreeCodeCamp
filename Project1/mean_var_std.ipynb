{
 "cells": [
  {
   "cell_type": "code",
   "execution_count": null,
   "metadata": {},
   "outputs": [
    {
     "name": "stdout",
     "output_type": "stream",
     "text": [
      "Please enter the number you shouldn't enter String \n",
      "1\n",
      "Do you want to enter number again press enter if you want if you didn't want press any thing \n",
      "\n",
      "\n",
      "Please enter the number you shouldn't enter String \n",
      "2\n",
      "Do you want to enter number again press enter if you want if you didn't want press any thing \n",
      "\n",
      "\n",
      "Please enter the number you shouldn't enter String \n",
      "3\n",
      "Do you want to enter number again press enter if you want if you didn't want press any thing \n",
      "\n",
      "\n",
      "Please enter the number you shouldn't enter String \n",
      "4\n",
      "Do you want to enter number again press enter if you want if you didn't want press any thing \n",
      "\n",
      "\n",
      "Please enter the number you shouldn't enter String \n",
      "5\n",
      "Do you want to enter number again press enter if you want if you didn't want press any thing \n",
      "\n",
      "\n",
      "Please enter the number you shouldn't enter String \n",
      "6\n",
      "Do you want to enter number again press enter if you want if you didn't want press any thing \n",
      "\n",
      "\n",
      "Please enter the number you shouldn't enter String \n",
      "7\n",
      "Do you want to enter number again press enter if you want if you didn't want press any thing \n",
      "\n",
      "\n"
     ]
    }
   ],
   "source": [
    "List = [] \n",
    "counter  = 0\n",
    "\n",
    "check  =  \"\"  \n",
    "while True:\n",
    "    try:\n",
    "        text  = int(input(\"Please enter the number you shouldn't enter String \\n\"))\n",
    "        List.insert( counter, text) \n",
    "        counter+=1 ;  \n",
    "        print(\"Do you want to enter number again press enter if you want if you didn't want press any thing \\n\")\n",
    "        check  = input() \n",
    "        if(check != \"\" ):\n",
    "            break;  \n",
    "    except ValueError :\n",
    "        continue   \n",
    "\n",
    "\n",
    "if(List.index(List[-1])<= 8):\n",
    "    print(\"it's less than 9 you should enter \" + str(counter) + \"values\")\n",
    "    exit()\n",
    "\n",
    "\n",
    "\n",
    "\n"
   ]
  },
  {
   "cell_type": "markdown",
   "metadata": {},
   "source": [
    "### import pandas as pd \n",
    "import numpy as np \n",
    "npListFloat  = np.array(List , dtype = float)\n",
    "npListint = np.array(List, dtype= int ) \n",
    "npListFloatshape = npListFloat.reshape(3,3)\n",
    "npListintshape = npListint.reshape(3,3) \n"
   ]
  },
  {
   "cell_type": "markdown",
   "metadata": {},
   "source": [
    "# Mean operations and convert to list "
   ]
  },
  {
   "cell_type": "code",
   "execution_count": 1,
   "metadata": {},
   "outputs": [
    {
     "ename": "NameError",
     "evalue": "name 'npListFloatshape' is not defined",
     "output_type": "error",
     "traceback": [
      "\u001b[1;31m---------------------------------------------------------------------------\u001b[0m",
      "\u001b[1;31mNameError\u001b[0m                                 Traceback (most recent call last)",
      "Cell \u001b[1;32mIn [1], line 1\u001b[0m\n\u001b[1;32m----> 1\u001b[0m List_Mean_axis1 \u001b[38;5;241m=\u001b[39m \u001b[43mnpListFloatshape\u001b[49m\u001b[38;5;241m.\u001b[39mmean(axis  \u001b[38;5;241m=\u001b[39m \u001b[38;5;241m0\u001b[39m )\u001b[38;5;241m.\u001b[39mtolist()\n\u001b[0;32m      2\u001b[0m List_Mean_axis2 \u001b[38;5;241m=\u001b[39m npListFloatshape\u001b[38;5;241m.\u001b[39mmean(axis \u001b[38;5;241m=\u001b[39m \u001b[38;5;241m1\u001b[39m )\u001b[38;5;241m.\u001b[39mtolist() \n\u001b[0;32m      3\u001b[0m List_Mean_Flatten \u001b[38;5;241m=\u001b[39m npListFloatshape\u001b[38;5;241m.\u001b[39mmean()\u001b[38;5;241m.\u001b[39mtolist()\n",
      "\u001b[1;31mNameError\u001b[0m: name 'npListFloatshape' is not defined"
     ]
    }
   ],
   "source": [
    "List_Mean_axis1 = npListFloatshape.mean(axis  = 0 ).tolist()\n",
    "List_Mean_axis2 = npListFloatshape.mean(axis = 1 ).tolist() \n",
    "List_Mean_Flatten = npListFloatshape.mean().tolist() \n",
    " \n",
    "\n",
    "\n"
   ]
  },
  {
   "cell_type": "markdown",
   "metadata": {},
   "source": [
    "# make varaince operation and convert it to List "
   ]
  },
  {
   "cell_type": "code",
   "execution_count": null,
   "metadata": {},
   "outputs": [
    {
     "name": "stdout",
     "output_type": "stream",
     "text": [
      "[6.0, 6.0, 6.0]\n",
      "[0.6666666666666666, 0.6666666666666666, 0.6666666666666666]\n",
      "6.666666666666667\n"
     ]
    }
   ],
   "source": [
    "List_Variance_axis1 = npListFloatshape.var(axis=0).tolist()\n",
    "List_Variance_axis2 = npListFloatshape.var(axis = 1 ).tolist() \n",
    "List_Variance_Flatten = npListFloatshape.var().tolist() \n"
   ]
  },
  {
   "cell_type": "markdown",
   "metadata": {},
   "source": [
    "# make max operation and convert it to list  "
   ]
  },
  {
   "cell_type": "code",
   "execution_count": null,
   "metadata": {},
   "outputs": [
    {
     "name": "stdout",
     "output_type": "stream",
     "text": [
      "[6.0, 7.0, 8.0]\n",
      "[2.0, 5.0, 8.0]\n",
      "8.0\n"
     ]
    }
   ],
   "source": [
    "List_Max_axis1 = npListintshape.max(axis=0).tolist()\n",
    "List_Max_axis2 = npListintshape.max(axis = 1 ).tolist() \n",
    "List_Max_Flatten = npListintshape.max().tolist() \n"
   ]
  },
  {
   "cell_type": "code",
   "execution_count": null,
   "metadata": {},
   "outputs": [
    {
     "name": "stdout",
     "output_type": "stream",
     "text": [
      "[2.449489742783178, 2.449489742783178, 2.449489742783178]\n",
      "[0.816496580927726, 0.816496580927726, 0.816496580927726]\n",
      "2.581988897471611\n"
     ]
    }
   ],
   "source": [
    "List_Std_axis1 = npListFloatshape.std(axis=0).tolist()\n",
    "List_Std_axis2 = npListFloatshape.std(axis = 1 ).tolist() \n",
    "List_Std_Flatten = npListFloatshape.std().tolist() \n"
   ]
  },
  {
   "cell_type": "code",
   "execution_count": null,
   "metadata": {},
   "outputs": [
    {
     "name": "stdout",
     "output_type": "stream",
     "text": [
      "[0.0, 1.0, 2.0]\n",
      "[0.0, 3.0, 6.0]\n",
      "0.0\n"
     ]
    }
   ],
   "source": [
    "List_Min_axis1 = npListintshape.min(axis=0).tolist()\n",
    "List_Min_axis2 = npListintshape.min(axis = 1 ).tolist() \n",
    "List_Min_Flatten = npListintshape.min().tolist() \n",
    "print(List_Min_axis1)\n",
    "print(List_Min_axis2) \n",
    "print(List_Min_Flatten) "
   ]
  },
  {
   "cell_type": "code",
   "execution_count": null,
   "metadata": {},
   "outputs": [
    {
     "name": "stdout",
     "output_type": "stream",
     "text": [
      "[9.0, 12.0, 15.0]\n",
      "[3.0, 12.0, 21.0]\n",
      "36.0\n"
     ]
    }
   ],
   "source": [
    "List_Sum_axis1 = npListintshape.sum(axis = 0).tolist()\n",
    "List_Sum_axis2 = npListintshape.sum(axis = 1).tolist()\n",
    "List_Sum_Flatten = npListintshape.sum().tolist()\n",
    "print(List_Sum_axis1)\n",
    "print(List_Sum_axis2) \n",
    "print(List_Sum_Flatten)"
   ]
  },
  {
   "cell_type": "code",
   "execution_count": null,
   "metadata": {},
   "outputs": [],
   "source": [
    "dictionary = {\n",
    "    'mean': [List_Mean_axis1 , List_Mean_axis2 ,  List_Mean_Flatten ] , \n",
    "    'Variance': [List_Variance_axis1 , List_Variance_axis2 ,  List_Variance_Flatten ] ,  \n",
    "    'Max' : [List_Max_axis1 , List_Max_axis2 , List_Max_Flatten] ,  \n",
    "    'Min' : [List_Min_axis1 , List_Min_axis2 , List_Min_Flatten] ,  \n",
    "    'Sum': [List_Sum_axis1 , List_Sum_axis2 , List_Sum_Flatten] \n",
    "}"
   ]
  },
  {
   "cell_type": "code",
   "execution_count": null,
   "metadata": {},
   "outputs": [
    {
     "name": "stdout",
     "output_type": "stream",
     "text": [
      "{'mean': [[3.0, 4.0, 5.0], [1.0, 4.0, 7.0], 4.0], 'Variance': [[6.0, 6.0, 6.0], [0.6666666666666666, 0.6666666666666666, 0.6666666666666666], 6.666666666666667], 'Max': [[6.0, 7.0, 8.0], [2.0, 5.0, 8.0], 8.0], 'Min': [[0.0, 1.0, 2.0], [0.0, 3.0, 6.0], 0.0], 'Sum': [[9.0, 12.0, 15.0], [3.0, 12.0, 21.0], 36.0]}\n"
     ]
    }
   ],
   "source": [
    "print(dictionary)"
   ]
  }
 ],
 "metadata": {
  "kernelspec": {
   "display_name": "Python 3 (ipykernel)",
   "language": "python",
   "name": "python3"
  },
  "language_info": {
   "codemirror_mode": {
    "name": "ipython",
    "version": 3
   },
   "file_extension": ".py",
   "mimetype": "text/x-python",
   "name": "python",
   "nbconvert_exporter": "python",
   "pygments_lexer": "ipython3",
   "version": "3.10.4"
  },
  "vscode": {
   "interpreter": {
    "hash": "916dbcbb3f70747c44a77c7bcd40155683ae19c65e1c03b4aa3499c5328201f1"
   }
  }
 },
 "nbformat": 4,
 "nbformat_minor": 2
}
